{
 "cells": [
  {
   "cell_type": "code",
   "execution_count": 20,
   "metadata": {},
   "outputs": [],
   "source": [
    "import numpy as np \n",
    "import pandas as pd \n",
    "import matplotlib.pyplot as plt\n",
    "import cv2\n",
    "import tensorflow as tf\n",
    "from PIL import Image\n",
    "import os\n",
    "from sklearn.model_selection import train_test_split\n",
    "from keras.utils import to_categorical\n",
    "from keras.models import Sequential, load_model\n",
    "from keras.layers import Conv2D, MaxPool2D, Dense, Flatten, Dropout\n",
    "from google.cloud import vision"
   ]
  },
  {
   "cell_type": "code",
   "execution_count": 15,
   "metadata": {},
   "outputs": [
    {
     "name": "stdout",
     "output_type": "stream",
     "text": [
      "E:\\SiH-Frame-Demo\\Sign Board Detection\n"
     ]
    }
   ],
   "source": [
    "data = []\n",
    "labels = []\n",
    "classes = 43\n",
    "cur_dir = os.getcwd()\n",
    "print(cur_dir)"
   ]
  },
  {
   "cell_type": "code",
   "execution_count": 16,
   "metadata": {},
   "outputs": [
    {
     "name": "stdout",
     "output_type": "stream",
     "text": [
      "Final label[ 0  0  0 ... 42 42 42]\n",
      "Final data[[[[ 75  78  80]\n",
      "   [ 74  76  78]\n",
      "   [ 85  86  84]\n",
      "   ...\n",
      "   [ 68  75  74]\n",
      "   [ 65  69  68]\n",
      "   [ 66  67  66]]\n",
      "\n",
      "  [[ 83  84  86]\n",
      "   [ 80  80  82]\n",
      "   [ 88  88  83]\n",
      "   ...\n",
      "   [ 73  77  78]\n",
      "   [ 76  78  75]\n",
      "   [ 80  80  78]]\n",
      "\n",
      "  [[ 78  78  80]\n",
      "   [ 86  85  86]\n",
      "   [ 90  89  90]\n",
      "   ...\n",
      "   [ 71  74  71]\n",
      "   [ 73  74  69]\n",
      "   [ 78  78  74]]\n",
      "\n",
      "  ...\n",
      "\n",
      "  [[133 134 139]\n",
      "   [123 127 132]\n",
      "   [112 121 125]\n",
      "   ...\n",
      "   [ 94  95  89]\n",
      "   [ 97  98  91]\n",
      "   [ 99 103  99]]\n",
      "\n",
      "  [[ 91  95  99]\n",
      "   [ 91  98 103]\n",
      "   [ 75  86  90]\n",
      "   ...\n",
      "   [104 102  96]\n",
      "   [110 113 104]\n",
      "   [ 96 104  98]]\n",
      "\n",
      "  [[ 85  84  87]\n",
      "   [ 95 101 107]\n",
      "   [ 63  76  81]\n",
      "   ...\n",
      "   [103 103  95]\n",
      "   [ 99 102  90]\n",
      "   [ 90  97  89]]]\n",
      "\n",
      "\n",
      " [[[ 69  73  73]\n",
      "   [ 76  79  79]\n",
      "   [ 75  77  77]\n",
      "   ...\n",
      "   [ 76  81  80]\n",
      "   [ 71  77  77]\n",
      "   [ 66  68  70]]\n",
      "\n",
      "  [[ 65  69  69]\n",
      "   [ 74  76  76]\n",
      "   [ 84  84  83]\n",
      "   ...\n",
      "   [ 90  83  89]\n",
      "   [ 74  79  84]\n",
      "   [ 67  69  73]]\n",
      "\n",
      "  [[ 63  68  68]\n",
      "   [ 71  72  72]\n",
      "   [ 81  79  77]\n",
      "   ...\n",
      "   [105  86  91]\n",
      "   [ 71  75  76]\n",
      "   [ 69  71  69]]\n",
      "\n",
      "  ...\n",
      "\n",
      "  [[164 139 142]\n",
      "   [157 139 144]\n",
      "   [151 139 143]\n",
      "   ...\n",
      "   [ 76  77  79]\n",
      "   [ 77  80  76]\n",
      "   [ 90  93  82]]\n",
      "\n",
      "  [[102 103 104]\n",
      "   [103 102 104]\n",
      "   [101  97 103]\n",
      "   ...\n",
      "   [ 80  81  82]\n",
      "   [ 92  95  91]\n",
      "   [106 110 101]]\n",
      "\n",
      "  [[ 72  74  74]\n",
      "   [ 82  83  82]\n",
      "   [ 92  92  99]\n",
      "   ...\n",
      "   [ 74  74  75]\n",
      "   [103 103 100]\n",
      "   [101 104  96]]]\n",
      "\n",
      "\n",
      " [[[ 72  72  72]\n",
      "   [ 79  79  79]\n",
      "   [ 78  78  73]\n",
      "   ...\n",
      "   [ 78  81  71]\n",
      "   [ 72  79  73]\n",
      "   [ 63  66  64]]\n",
      "\n",
      "  [[ 66  68  68]\n",
      "   [ 77  75  74]\n",
      "   [ 94  87  86]\n",
      "   ...\n",
      "   [108  93  87]\n",
      "   [ 77  80  77]\n",
      "   [ 74  75  74]]\n",
      "\n",
      "  [[ 65  69  69]\n",
      "   [ 76  71  71]\n",
      "   [112  98 101]\n",
      "   ...\n",
      "   [120  87  91]\n",
      "   [ 74  74  74]\n",
      "   [ 69  69  67]]\n",
      "\n",
      "  ...\n",
      "\n",
      "  [[146 133 117]\n",
      "   [143 130 114]\n",
      "   [140 127 119]\n",
      "   ...\n",
      "   [ 75  76  75]\n",
      "   [ 72  75  75]\n",
      "   [ 73  76  77]]\n",
      "\n",
      "  [[114 121 113]\n",
      "   [115 116 107]\n",
      "   [115 111 107]\n",
      "   ...\n",
      "   [ 71  73  73]\n",
      "   [ 79  81  80]\n",
      "   [ 92  94  92]]\n",
      "\n",
      "  [[ 73  78  77]\n",
      "   [ 84  87  84]\n",
      "   [ 95  96  95]\n",
      "   ...\n",
      "   [ 70  71  71]\n",
      "   [ 81  82  79]\n",
      "   [ 95  97  91]]]\n",
      "\n",
      "\n",
      " ...\n",
      "\n",
      "\n",
      " [[[ 11  11  13]\n",
      "   [ 12  12  14]\n",
      "   [ 13  11  13]\n",
      "   ...\n",
      "   [ 12  11  13]\n",
      "   [ 12  11  13]\n",
      "   [ 12  10  13]]\n",
      "\n",
      "  [[ 11  11  14]\n",
      "   [ 13  11  14]\n",
      "   [ 12  11  13]\n",
      "   ...\n",
      "   [ 12  11  13]\n",
      "   [ 12  12  13]\n",
      "   [ 12  11  12]]\n",
      "\n",
      "  [[  9  10  13]\n",
      "   [ 12  12  16]\n",
      "   [ 14  15  17]\n",
      "   ...\n",
      "   [ 11  11  13]\n",
      "   [ 11  11  13]\n",
      "   [ 11  11  11]]\n",
      "\n",
      "  ...\n",
      "\n",
      "  [[ 10  10  12]\n",
      "   [ 10   9  11]\n",
      "   [  9   9  11]\n",
      "   ...\n",
      "   [ 10   9  12]\n",
      "   [ 11  10  12]\n",
      "   [ 11  11  12]]\n",
      "\n",
      "  [[ 10   9  12]\n",
      "   [ 10   9  11]\n",
      "   [ 10   9  11]\n",
      "   ...\n",
      "   [ 11   9  12]\n",
      "   [ 10  11  13]\n",
      "   [ 12  11  12]]\n",
      "\n",
      "  [[ 10   9  12]\n",
      "   [ 11  10  12]\n",
      "   [ 10   9  11]\n",
      "   ...\n",
      "   [ 11  10  11]\n",
      "   [ 11  11  13]\n",
      "   [ 12  11  13]]]\n",
      "\n",
      "\n",
      " [[[ 13  13  15]\n",
      "   [ 14  13  16]\n",
      "   [ 13  11  13]\n",
      "   ...\n",
      "   [ 12  11  12]\n",
      "   [ 11  10  11]\n",
      "   [ 11  13  19]]\n",
      "\n",
      "  [[ 14  12  14]\n",
      "   [ 13  12  14]\n",
      "   [ 14  12  14]\n",
      "   ...\n",
      "   [ 11  11  13]\n",
      "   [ 11  10  12]\n",
      "   [ 10  11  14]]\n",
      "\n",
      "  [[ 12  11  12]\n",
      "   [ 13  12  13]\n",
      "   [ 13  12  14]\n",
      "   ...\n",
      "   [ 11  10  12]\n",
      "   [ 11  10  12]\n",
      "   [ 10   9  11]]\n",
      "\n",
      "  ...\n",
      "\n",
      "  [[ 12  12  13]\n",
      "   [ 11  10  11]\n",
      "   [  9   9  11]\n",
      "   ...\n",
      "   [ 13  12  13]\n",
      "   [ 11   9  11]\n",
      "   [  9   9  10]]\n",
      "\n",
      "  [[ 11  10  12]\n",
      "   [ 12  10  12]\n",
      "   [ 10   9  11]\n",
      "   ...\n",
      "   [ 14  13  15]\n",
      "   [ 11  10  10]\n",
      "   [ 10   9   9]]\n",
      "\n",
      "  [[ 10   9  11]\n",
      "   [ 10   9  11]\n",
      "   [ 10  10  12]\n",
      "   ...\n",
      "   [ 14  12  14]\n",
      "   [ 11  10  11]\n",
      "   [ 10   9  10]]]\n",
      "\n",
      "\n",
      " [[[ 11  10  12]\n",
      "   [ 11  10  11]\n",
      "   [ 10  10  11]\n",
      "   ...\n",
      "   [ 18  20  22]\n",
      "   [ 25  24  23]\n",
      "   [ 24  17  17]]\n",
      "\n",
      "  [[ 12  11  12]\n",
      "   [ 12  11  12]\n",
      "   [ 12  10  12]\n",
      "   ...\n",
      "   [ 45  60  77]\n",
      "   [ 80  77  83]\n",
      "   [ 51  30  27]]\n",
      "\n",
      "  [[ 12  12  13]\n",
      "   [ 12  12  14]\n",
      "   [ 12  11  12]\n",
      "   ...\n",
      "   [ 69  87 109]\n",
      "   [ 89  84 103]\n",
      "   [ 51  38  44]]\n",
      "\n",
      "  ...\n",
      "\n",
      "  [[ 12  11  14]\n",
      "   [ 13  11  12]\n",
      "   [ 10   9  10]\n",
      "   ...\n",
      "   [ 10   9  11]\n",
      "   [ 10   9  11]\n",
      "   [  9   9  11]]\n",
      "\n",
      "  [[ 11  11  13]\n",
      "   [ 11  10  12]\n",
      "   [  9   9  10]\n",
      "   ...\n",
      "   [ 10   9  11]\n",
      "   [  9   9  11]\n",
      "   [ 10   9  11]]\n",
      "\n",
      "  [[ 11  11  12]\n",
      "   [ 10  10  11]\n",
      "   [  9   9  10]\n",
      "   ...\n",
      "   [ 10   9  12]\n",
      "   [ 10  10  11]\n",
      "   [ 10   9  11]]]]\n"
     ]
    }
   ],
   "source": [
    "for i in range(classes):\n",
    "    path = os.path.join(cur_dir,'train',str(i))\n",
    "    images = os.listdir(path)\n",
    "    for a in images:\n",
    "        try:\n",
    "            image = Image.open(path + '\\\\' + a)\n",
    "            image = image.resize((30,30))\n",
    "            image = np.array(image)\n",
    "            data.append(image)\n",
    "            labels.append(i)\n",
    "        except:\n",
    "            print(\"Error loading images\")\n",
    "\n",
    "data = np.array(data)\n",
    "labels = np.array(labels)\n",
    "print(\"Final label\"+str(labels))\n",
    "print(\"Final data\"+str(data))"
   ]
  },
  {
   "cell_type": "code",
   "execution_count": 6,
   "metadata": {},
   "outputs": [
    {
     "name": "stdout",
     "output_type": "stream",
     "text": [
      "(39209, 30, 30, 3) (39209,)\n",
      "(31367, 30, 30, 3) (7842, 30, 30, 3) (31367,) (7842,)\n"
     ]
    }
   ],
   "source": [
    "print(data.shape,labels.shape)\n",
    "X_train,X_test,Y_train,Y_test = train_test_split(data, labels, test_size = 0.2, random_state = 42)\n",
    "\n",
    "print(X_train.shape,X_test.shape,Y_train.shape,Y_test.shape)\n",
    "\n",
    "Y_train = to_categorical(Y_train,43)\n",
    "Y_test = to_categorical(Y_test,43)"
   ]
  },
  {
   "cell_type": "code",
   "execution_count": 8,
   "metadata": {},
   "outputs": [
    {
     "name": "stdout",
     "output_type": "stream",
     "text": [
      "WARNING:tensorflow:From C:\\Users\\Stephin\\anaconda3\\lib\\site-packages\\keras\\backend\\tensorflow_backend.py:4070: The name tf.nn.max_pool is deprecated. Please use tf.nn.max_pool2d instead.\n",
      "\n"
     ]
    }
   ],
   "source": [
    "model = Sequential()\n",
    "model.add(Conv2D(filters=32, kernel_size=(5,5), activation='relu', input_shape=X_train.shape[1:]))\n",
    "model.add(Conv2D(filters=32, kernel_size=(5,5), activation='relu'))\n",
    "model.add(MaxPool2D(pool_size=(2, 2)))\n",
    "model.add(Dropout(rate=0.25))\n",
    "model.add(Conv2D(filters=64, kernel_size=(3, 3), activation='relu'))\n",
    "model.add(Conv2D(filters=64, kernel_size=(3, 3), activation='relu'))\n",
    "model.add(MaxPool2D(pool_size=(2, 2)))\n",
    "model.add(Dropout(rate=0.25))\n",
    "model.add(Flatten())\n",
    "model.add(Dense(256, activation='relu'))\n",
    "model.add(Dropout(rate=0.5))\n",
    "model.add(Dense(43, activation='softmax'))\n",
    "#Compilation of the model\n",
    "model.compile(loss='categorical_crossentropy', optimizer='adam', metrics=['accuracy'])"
   ]
  },
  {
   "cell_type": "code",
   "execution_count": 10,
   "metadata": {},
   "outputs": [
    {
     "name": "stdout",
     "output_type": "stream",
     "text": [
      "Train on 31367 samples, validate on 7842 samples\n",
      "Epoch 1/5\n",
      "31367/31367 [==============================] - 163s 5ms/step - loss: 1.1129 - accuracy: 0.6799 - val_loss: 0.3675 - val_accuracy: 0.8948\n",
      "Epoch 2/5\n",
      "31367/31367 [==============================] - 161s 5ms/step - loss: 0.4816 - accuracy: 0.8593 - val_loss: 0.1264 - val_accuracy: 0.9657\n",
      "Epoch 3/5\n",
      "31367/31367 [==============================] - 162s 5ms/step - loss: 0.3369 - accuracy: 0.9011 - val_loss: 0.0920 - val_accuracy: 0.9769\n",
      "Epoch 4/5\n",
      "31367/31367 [==============================] - 163s 5ms/step - loss: 0.2590 - accuracy: 0.9259 - val_loss: 0.0808 - val_accuracy: 0.9777\n",
      "Epoch 5/5\n",
      "31367/31367 [==============================] - 164s 5ms/step - loss: 0.2141 - accuracy: 0.9394 - val_loss: 0.0709 - val_accuracy: 0.9814\n"
     ]
    }
   ],
   "source": [
    "epochs = 5\n",
    "histroy = model.fit(X_train,Y_train,batch_size = 64, epochs = epochs , validation_data=(X_test,Y_test))"
   ]
  },
  {
   "cell_type": "code",
   "execution_count": 17,
   "metadata": {},
   "outputs": [
    {
     "data": {
      "text/plain": [
       "<matplotlib.legend.Legend at 0x1bc61b70>"
      ]
     },
     "execution_count": 17,
     "metadata": {},
     "output_type": "execute_result"
    },
    {
     "data": {
      "image/png": "[encoded data removed]",
      "text/plain": [
       "<Figure size 432x288 with 1 Axes>"
      ]
     },
     "metadata": {
      "needs_background": "light"
     },
     "output_type": "display_data"
    },
    {
     "data": {
      "image/png": "[encoded data removed]",
      "text/plain": [
       "<Figure size 432x288 with 1 Axes>"
      ]
     },
     "metadata": {
      "needs_background": "light"
     },
     "output_type": "display_data"
    }
   ],
   "source": [
    "plt.figure(0)\n",
    "plt.plot(histroy.history['accuracy'],label='training_accuracy')\n",
    "plt.plot(histroy.history['val_accuracy'],label='val_accuracy')\n",
    "plt.xlabel('epochs')\n",
    "plt.ylabel('accuracy')\n",
    "plt.title('Accuracy')\n",
    "plt.legend()\n",
    "\n",
    "plt.figure(1)\n",
    "plt.plot(histroy.history['loss'],label='training_loss')\n",
    "plt.plot(histroy.history['val_loss'],label='val_loss')\n",
    "plt.xlabel('epochs')\n",
    "plt.ylabel('loss')\n",
    "plt.title('Loss')\n",
    "plt.legend()"
   ]
  },
  {
   "cell_type": "code",
   "execution_count": 17,
   "metadata": {},
   "outputs": [],
   "source": [
    "from sklearn.metrics import accuracy_score"
   ]
  },
  {
   "cell_type": "code",
   "execution_count": 18,
   "metadata": {},
   "outputs": [],
   "source": [
    "y_test = pd.read_csv('Test.csv')\n",
    "labels = y_test[\"ClassId\"].values\n",
    "imgs = y_test[\"Path\"].values\n",
    "data=[]"
   ]
  },
  {
   "cell_type": "code",
   "execution_count": 22,
   "metadata": {},
   "outputs": [],
   "source": [
    "for img in imgs:\n",
    "    image = Image.open(img)\n",
    "    image = image.resize((30,30))\n",
    "    data.append(np.array(image))\n",
    "X_test=np.array(data)"
   ]
  },
  {
   "cell_type": "code",
   "execution_count": 22,
   "metadata": {},
   "outputs": [],
   "source": [
    "pred = model.predict_classes(X_test)"
   ]
  },
  {
   "cell_type": "code",
   "execution_count": 23,
   "metadata": {},
   "outputs": [
    {
     "name": "stdout",
     "output_type": "stream",
     "text": [
      "0.947901821060966\n"
     ]
    }
   ],
   "source": [
    "print(accuracy_score(labels, pred))"
   ]
  },
  {
   "cell_type": "code",
   "execution_count": 26,
   "metadata": {},
   "outputs": [],
   "source": [
    "model.save('traffic_classi00fier.h5')"
   ]
  },
  {
   "cell_type": "code",
   "execution_count": null,
   "metadata": {},
   "outputs": [],
   "source": []
  }
 ],
 "metadata": {
  "kernelspec": {
   "display_name": "Python 3",
   "language": "python",
   "name": "python3"
  },
  "language_info": {
   "codemirror_mode": {
    "name": "ipython",
    "version": 3
   },
   "file_extension": ".py",
   "mimetype": "text/x-python",
   "name": "python",
   "nbconvert_exporter": "python",
   "pygments_lexer": "ipython3",
   "version": "3.6.10"
  }
 },
 "nbformat": 4,
 "nbformat_minor": 4
}
