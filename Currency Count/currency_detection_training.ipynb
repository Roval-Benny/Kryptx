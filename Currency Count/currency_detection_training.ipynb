{
 "cells": [
  {
   "cell_type": "code",
   "execution_count": 141,
   "metadata": {},
   "outputs": [],
   "source": [
    "import numpy as np \n",
    "import pandas as pd \n",
    "import matplotlib.pyplot as plt\n",
    "import cv2\n",
    "import tensorflow as tf\n",
    "from PIL import Image\n",
    "import os\n",
    "from sklearn.model_selection import train_test_split\n",
    "from keras.utils import to_categorical\n",
    "from keras.models import Sequential, load_model\n",
    "from keras.layers import Conv2D, MaxPool2D, Dense, Flatten, Dropout\n",
    "from google.cloud import vision\n",
    "from sklearn.metrics import accuracy_score"
   ]
  },
  {
   "cell_type": "code",
   "execution_count": 245,
   "metadata": {},
   "outputs": [
    {
     "name": "stdout",
     "output_type": "stream",
     "text": [
      "E:\\SiH-Frame-Demo\\Currency count\n"
     ]
    }
   ],
   "source": [
    "data = []\n",
    "labels = []\n",
    "classes = 7\n",
    "cur_dir = os.getcwd()\n",
    "print(cur_dir)"
   ]
  },
  {
   "cell_type": "code",
   "execution_count": 246,
   "metadata": {},
   "outputs": [],
   "source": [
    "for i in range(classes):\n",
    "    path = os.path.join(cur_dir,'training',str(i))\n",
    "    images = os.listdir(path)\n",
    "    for a in images:\n",
    "        try:\n",
    "            image = Image.open(path + '\\\\' + a)\n",
    "            image = image.resize((30,30))\n",
    "            image = np.array(image)\n",
    "            data.append(image)\n",
    "            labels.append(i)\n",
    "        except:\n",
    "            print(\"Error loading images\")\n",
    "\n",
    "data = np.array(data)\n",
    "labels = np.array(labels)"
   ]
  },
  {
   "cell_type": "code",
   "execution_count": 247,
   "metadata": {},
   "outputs": [
    {
     "name": "stdout",
     "output_type": "stream",
     "text": [
      "(579, 30, 30, 3) (579,)\n",
      "(463, 30, 30, 3) (116, 30, 30, 3) (463,) (116,)\n"
     ]
    }
   ],
   "source": [
    "print(data.shape,labels.shape)\n",
    "X_train,X_test,Y_train,Y_test = train_test_split(data, labels, test_size = 0.2, random_state = 42)\n",
    "\n",
    "print(X_train.shape,X_test.shape,Y_train.shape,Y_test.shape)\n",
    "\n",
    "Y_train = to_categorical(Y_train,43)\n",
    "Y_test = to_categorical(Y_test,43)"
   ]
  },
  {
   "cell_type": "code",
   "execution_count": 227,
   "metadata": {},
   "outputs": [],
   "source": [
    "model = Sequential()\n",
    "model.add(Conv2D(filters=32, kernel_size=(5,5), activation='relu', input_shape=X_train.shape[1:]))\n",
    "model.add(Conv2D(filters=32, kernel_size=(5,5), activation='relu'))\n",
    "model.add(MaxPool2D(pool_size=(2, 2)))\n",
    "model.add(Dropout(rate=0.25))\n",
    "model.add(Conv2D(filters=64, kernel_size=(3, 3), activation='relu'))\n",
    "model.add(Conv2D(filters=64, kernel_size=(3, 3), activation='relu'))\n",
    "model.add(MaxPool2D(pool_size=(2, 2)))\n",
    "model.add(Dropout(rate=0.25))\n",
    "model.add(Flatten())\n",
    "model.add(Dense(256, activation='relu'))\n",
    "model.add(Dropout(rate=0.5))\n",
    "model.add(Dense(43, activation='softmax'))\n",
    "#Compilation of the model\n",
    "model.compile(loss='categorical_crossentropy', optimizer='adam', metrics=['accuracy'])"
   ]
  },
  {
   "cell_type": "code",
   "execution_count": 248,
   "metadata": {},
   "outputs": [
    {
     "name": "stdout",
     "output_type": "stream",
     "text": [
      "Train on 463 samples, validate on 116 samples\n",
      "Epoch 1/50\n",
      "463/463 [==============================] - 4s 9ms/step - loss: 0.4582 - accuracy: 0.8207 - val_loss: 0.8974 - val_accuracy: 0.7672\n",
      "Epoch 2/50\n",
      "463/463 [==============================] - 2s 5ms/step - loss: 0.4200 - accuracy: 0.8445 - val_loss: 0.9970 - val_accuracy: 0.7328\n",
      "Epoch 3/50\n",
      "463/463 [==============================] - 2s 5ms/step - loss: 0.4054 - accuracy: 0.8380 - val_loss: 0.8756 - val_accuracy: 0.7500\n",
      "Epoch 4/50\n",
      "463/463 [==============================] - 2s 5ms/step - loss: 0.4057 - accuracy: 0.8575 - val_loss: 0.9954 - val_accuracy: 0.6897\n",
      "Epoch 5/50\n",
      "463/463 [==============================] - 2s 5ms/step - loss: 0.4663 - accuracy: 0.8207 - val_loss: 0.9129 - val_accuracy: 0.7500\n",
      "Epoch 6/50\n",
      "463/463 [==============================] - 2s 5ms/step - loss: 0.3832 - accuracy: 0.8618 - val_loss: 1.0261 - val_accuracy: 0.7500\n",
      "Epoch 7/50\n",
      "463/463 [==============================] - 2s 5ms/step - loss: 0.3447 - accuracy: 0.8639 - val_loss: 0.8497 - val_accuracy: 0.7759\n",
      "Epoch 8/50\n",
      "463/463 [==============================] - 2s 5ms/step - loss: 0.3092 - accuracy: 0.8942 - val_loss: 0.8928 - val_accuracy: 0.7586\n",
      "Epoch 9/50\n",
      "463/463 [==============================] - 2s 5ms/step - loss: 0.3119 - accuracy: 0.8898 - val_loss: 0.9076 - val_accuracy: 0.7672\n",
      "Epoch 10/50\n",
      "463/463 [==============================] - 2s 5ms/step - loss: 0.3947 - accuracy: 0.8683 - val_loss: 1.0457 - val_accuracy: 0.7414\n",
      "Epoch 11/50\n",
      "463/463 [==============================] - 2s 5ms/step - loss: 0.3708 - accuracy: 0.8683 - val_loss: 0.9796 - val_accuracy: 0.6983\n",
      "Epoch 12/50\n",
      "463/463 [==============================] - 2s 5ms/step - loss: 0.3868 - accuracy: 0.8445 - val_loss: 1.0779 - val_accuracy: 0.7414\n",
      "Epoch 13/50\n",
      "463/463 [==============================] - 2s 5ms/step - loss: 0.3574 - accuracy: 0.8790 - val_loss: 0.9284 - val_accuracy: 0.7500\n",
      "Epoch 14/50\n",
      "463/463 [==============================] - 2s 5ms/step - loss: 0.3010 - accuracy: 0.8920 - val_loss: 1.0406 - val_accuracy: 0.7414\n",
      "Epoch 15/50\n",
      "463/463 [==============================] - 2s 5ms/step - loss: 0.3308 - accuracy: 0.8812 - val_loss: 1.0510 - val_accuracy: 0.7586\n",
      "Epoch 16/50\n",
      "463/463 [==============================] - 3s 5ms/step - loss: 0.4898 - accuracy: 0.8315 - val_loss: 0.8526 - val_accuracy: 0.7759\n",
      "Epoch 17/50\n",
      "463/463 [==============================] - 3s 6ms/step - loss: 0.3363 - accuracy: 0.8920 - val_loss: 0.8763 - val_accuracy: 0.7241\n",
      "Epoch 18/50\n",
      "463/463 [==============================] - 2s 5ms/step - loss: 0.3921 - accuracy: 0.8575 - val_loss: 0.9020 - val_accuracy: 0.7328\n",
      "Epoch 19/50\n",
      "463/463 [==============================] - 2s 5ms/step - loss: 0.3444 - accuracy: 0.8726 - val_loss: 0.8644 - val_accuracy: 0.7500\n",
      "Epoch 20/50\n",
      "463/463 [==============================] - 2s 5ms/step - loss: 0.3126 - accuracy: 0.8661 - val_loss: 0.9406 - val_accuracy: 0.7586\n",
      "Epoch 21/50\n",
      "463/463 [==============================] - 2s 5ms/step - loss: 0.3085 - accuracy: 0.8920 - val_loss: 1.0371 - val_accuracy: 0.7414\n",
      "Epoch 22/50\n",
      "463/463 [==============================] - 3s 5ms/step - loss: 0.3870 - accuracy: 0.8510 - val_loss: 1.1093 - val_accuracy: 0.7241\n",
      "Epoch 23/50\n",
      "463/463 [==============================] - 2s 5ms/step - loss: 0.3584 - accuracy: 0.8834 - val_loss: 1.3286 - val_accuracy: 0.7500\n",
      "Epoch 24/50\n",
      "463/463 [==============================] - 3s 5ms/step - loss: 0.3101 - accuracy: 0.8985 - val_loss: 0.8679 - val_accuracy: 0.8017\n",
      "Epoch 25/50\n",
      "463/463 [==============================] - 2s 5ms/step - loss: 0.2721 - accuracy: 0.8985 - val_loss: 0.9171 - val_accuracy: 0.7845\n",
      "Epoch 26/50\n",
      "463/463 [==============================] - 2s 5ms/step - loss: 0.2627 - accuracy: 0.9028 - val_loss: 1.0544 - val_accuracy: 0.7586\n",
      "Epoch 27/50\n",
      "463/463 [==============================] - 2s 5ms/step - loss: 0.3127 - accuracy: 0.8790 - val_loss: 0.8375 - val_accuracy: 0.7586\n",
      "Epoch 28/50\n",
      "463/463 [==============================] - 2s 5ms/step - loss: 0.2633 - accuracy: 0.9071 - val_loss: 1.0204 - val_accuracy: 0.7759\n",
      "Epoch 29/50\n",
      "463/463 [==============================] - 2s 5ms/step - loss: 0.2819 - accuracy: 0.8877 - val_loss: 0.8151 - val_accuracy: 0.7845\n",
      "Epoch 30/50\n",
      "463/463 [==============================] - 2s 5ms/step - loss: 0.2939 - accuracy: 0.8855 - val_loss: 0.8179 - val_accuracy: 0.8017\n",
      "Epoch 31/50\n",
      "463/463 [==============================] - 2s 5ms/step - loss: 0.2123 - accuracy: 0.9201 - val_loss: 0.9338 - val_accuracy: 0.7672\n",
      "Epoch 32/50\n",
      "463/463 [==============================] - 2s 5ms/step - loss: 0.2508 - accuracy: 0.8985 - val_loss: 0.9788 - val_accuracy: 0.7931\n",
      "Epoch 33/50\n",
      "463/463 [==============================] - 2s 5ms/step - loss: 0.2195 - accuracy: 0.9179 - val_loss: 0.7736 - val_accuracy: 0.7759\n",
      "Epoch 34/50\n",
      "463/463 [==============================] - 2s 5ms/step - loss: 0.2705 - accuracy: 0.9201 - val_loss: 0.8711 - val_accuracy: 0.7931\n",
      "Epoch 35/50\n",
      "463/463 [==============================] - 2s 5ms/step - loss: 0.2558 - accuracy: 0.9158 - val_loss: 0.9336 - val_accuracy: 0.7845\n",
      "Epoch 36/50\n",
      "463/463 [==============================] - 3s 6ms/step - loss: 0.1918 - accuracy: 0.9395 - val_loss: 1.0585 - val_accuracy: 0.7759\n",
      "Epoch 37/50\n",
      "463/463 [==============================] - 3s 6ms/step - loss: 0.2063 - accuracy: 0.9136 - val_loss: 1.0414 - val_accuracy: 0.7931\n",
      "Epoch 38/50\n",
      "463/463 [==============================] - 2s 5ms/step - loss: 0.2572 - accuracy: 0.9006 - val_loss: 1.1217 - val_accuracy: 0.7759\n",
      "Epoch 39/50\n",
      "463/463 [==============================] - 2s 5ms/step - loss: 0.2751 - accuracy: 0.9158 - val_loss: 0.9053 - val_accuracy: 0.7931\n",
      "Epoch 40/50\n",
      "463/463 [==============================] - 3s 5ms/step - loss: 0.3275 - accuracy: 0.8942 - val_loss: 1.0190 - val_accuracy: 0.7500\n",
      "Epoch 41/50\n",
      "463/463 [==============================] - 2s 5ms/step - loss: 0.2913 - accuracy: 0.8855 - val_loss: 0.9682 - val_accuracy: 0.7500\n",
      "Epoch 42/50\n",
      "463/463 [==============================] - 2s 5ms/step - loss: 0.2504 - accuracy: 0.9136 - val_loss: 0.8026 - val_accuracy: 0.7845\n",
      "Epoch 43/50\n",
      "463/463 [==============================] - 2s 5ms/step - loss: 0.2025 - accuracy: 0.9136 - val_loss: 0.8657 - val_accuracy: 0.7845\n",
      "Epoch 44/50\n",
      "463/463 [==============================] - 3s 5ms/step - loss: 0.3200 - accuracy: 0.8834 - val_loss: 0.9682 - val_accuracy: 0.7500\n",
      "Epoch 45/50\n",
      "463/463 [==============================] - 3s 5ms/step - loss: 0.2412 - accuracy: 0.9114 - val_loss: 0.9599 - val_accuracy: 0.7500\n",
      "Epoch 46/50\n",
      "463/463 [==============================] - 2s 5ms/step - loss: 0.2112 - accuracy: 0.9352 - val_loss: 0.8567 - val_accuracy: 0.7672\n",
      "Epoch 47/50\n",
      "463/463 [==============================] - 2s 5ms/step - loss: 0.2288 - accuracy: 0.9352 - val_loss: 0.8805 - val_accuracy: 0.7500\n",
      "Epoch 48/50\n",
      "463/463 [==============================] - 2s 5ms/step - loss: 0.2267 - accuracy: 0.9244 - val_loss: 1.0972 - val_accuracy: 0.7500\n",
      "Epoch 49/50\n",
      "463/463 [==============================] - 2s 5ms/step - loss: 0.3720 - accuracy: 0.8812 - val_loss: 0.8633 - val_accuracy: 0.7414\n",
      "Epoch 50/50\n",
      "463/463 [==============================] - 3s 5ms/step - loss: 0.4343 - accuracy: 0.8445 - val_loss: 0.9278 - val_accuracy: 0.7414\n"
     ]
    }
   ],
   "source": [
    "epochs = 50\n",
    "histroy = model.fit(X_train,Y_train,batch_size = 64, epochs = epochs , validation_data=(X_test,Y_test))"
   ]
  },
  {
   "cell_type": "code",
   "execution_count": 10,
   "metadata": {},
   "outputs": [
    {
     "data": {
      "text/plain": [
       "<matplotlib.legend.Legend at 0x111c7f60>"
      ]
     },
     "execution_count": 10,
     "metadata": {},
     "output_type": "execute_result"
    },
    {
     "data": {
      "image/png": "[encoded data removed]",
      "text/plain": [
       "<Figure size 432x288 with 1 Axes>"
      ]
     },
     "metadata": {
      "needs_background": "light"
     },
     "output_type": "display_data"
    },
    {
     "data": {
      "image/png": "[encoded data removed]",
      "text/plain": [
       "<Figure size 432x288 with 1 Axes>"
      ]
     },
     "metadata": {
      "needs_background": "light"
     },
     "output_type": "display_data"
    }
   ],
   "source": [
    "plt.figure(0)\n",
    "plt.plot(histroy.history['accuracy'],label='training_accuracy')\n",
    "plt.plot(histroy.history['val_accuracy'],label='val_accuracy')\n",
    "plt.xlabel('epochs')\n",
    "plt.ylabel('accuracy')\n",
    "plt.title('Accuracy')\n",
    "plt.legend()\n",
    "\n",
    "plt.figure(1)\n",
    "plt.plot(histroy.history['loss'],label='training_loss')\n",
    "plt.plot(histroy.history['val_loss'],label='val_loss')\n",
    "plt.xlabel('epochs')\n",
    "plt.ylabel('loss')\n",
    "plt.title('Loss')\n",
    "plt.legend()"
   ]
  },
  {
   "cell_type": "code",
   "execution_count": 256,
   "metadata": {},
   "outputs": [],
   "source": [
    "df = pd.DataFrame(columns=['index','path'])\n",
    "index_value = []"
   ]
  },
  {
   "cell_type": "code",
   "execution_count": 257,
   "metadata": {},
   "outputs": [],
   "source": [
    "for i in range(classes):\n",
    "    path = os.path.join(cur_dir,'validation',str(i))\n",
    "    images = os.listdir(path)\n",
    "    for a in images:\n",
    "        index_value.append(i)\n",
    "        df = df.append(dict(\n",
    "            index = i,\n",
    "            path = 'validation\\\\'+str(i)+str('\\\\')+str(a)\n",
    "        ),ignore_index=True)"
   ]
  },
  {
   "cell_type": "code",
   "execution_count": 258,
   "metadata": {},
   "outputs": [],
   "source": [
    "image = df['path']\n",
    "label = df['index']\n",
    "data=[]"
   ]
  },
  {
   "cell_type": "code",
   "execution_count": 259,
   "metadata": {},
   "outputs": [],
   "source": [
    "X_test = []\n",
    "data = []\n",
    "for img in image:\n",
    "    #print(img)\n",
    "    imag = Image.open(os.path.join(cur_dir,img))    \n",
    "    imag = imag.resize((30,30))\n",
    "    imag = np.array(imag)\n",
    "    data.append(imag)\n"
   ]
  },
  {
   "cell_type": "code",
   "execution_count": 260,
   "metadata": {},
   "outputs": [],
   "source": [
    "datas =[]\n",
    "labels_value=[]\n",
    "j=0\n",
    "remove_index = []\n",
    "for i in data:\n",
    "    if (i.shape == (30,30,3)):\n",
    "        datas.append(i)\n",
    "        j=j+1\n",
    "    else:\n",
    "        remove_index.append(j)\n",
    "        j=j+1"
   ]
  },
  {
   "cell_type": "code",
   "execution_count": 261,
   "metadata": {},
   "outputs": [],
   "source": [
    "X_test=np.array(datas)"
   ]
  },
  {
   "cell_type": "code",
   "execution_count": 262,
   "metadata": {},
   "outputs": [
    {
     "name": "stdout",
     "output_type": "stream",
     "text": [
      "167\n"
     ]
    }
   ],
   "source": [
    "for u in remove_index:\n",
    "    index_value.pop(u)\n",
    "print(label.count())"
   ]
  },
  {
   "cell_type": "code",
   "execution_count": 263,
   "metadata": {},
   "outputs": [],
   "source": [
    "pred = model.predict_classes(X_test)"
   ]
  },
  {
   "cell_type": "code",
   "execution_count": 264,
   "metadata": {},
   "outputs": [],
   "source": [
    "index_value = np.array(index_value)"
   ]
  },
  {
   "cell_type": "code",
   "execution_count": 265,
   "metadata": {},
   "outputs": [
    {
     "name": "stdout",
     "output_type": "stream",
     "text": [
      "0.9024390243902439\n"
     ]
    }
   ],
   "source": [
    "print(accuracy_score(index_value, pred))"
   ]
  },
  {
   "cell_type": "code",
   "execution_count": 266,
   "metadata": {},
   "outputs": [],
   "source": [
    "model.save('currency_classifier.h5')"
   ]
  },
  {
   "cell_type": "code",
   "execution_count": null,
   "metadata": {},
   "outputs": [],
   "source": []
  }
 ],
 "metadata": {
  "kernelspec": {
   "display_name": "Python 3",
   "language": "python",
   "name": "python3"
  },
  "language_info": {
   "codemirror_mode": {
    "name": "ipython",
    "version": 3
   },
   "file_extension": ".py",
   "mimetype": "text/x-python",
   "name": "python",
   "nbconvert_exporter": "python",
   "pygments_lexer": "ipython3",
   "version": "3.6.10"
  }
 },
 "nbformat": 4,
 "nbformat_minor": 4
}
