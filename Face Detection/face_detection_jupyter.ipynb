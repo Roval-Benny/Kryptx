{
 "cells": [
  {
   "cell_type": "code",
   "execution_count": 229,
   "metadata": {},
   "outputs": [],
   "source": [
    "import face_recognition\n",
    "from PIL import Image, ImageDraw\n",
    "import os, sys, io\n",
    "import glob\n",
    "from google.cloud import vision\n",
    "import numpy as np\n",
    "import pandas as pd"
   ]
  },
  {
   "cell_type": "code",
   "execution_count": 303,
   "metadata": {},
   "outputs": [],
   "source": [
    "img_dir = \"./img/known/\" \n",
    "data_path = os.path.join(img_dir,'*.jpg')\n",
    "files = glob.glob(data_path)\n",
    "data = []"
   ]
  },
  {
   "cell_type": "code",
   "execution_count": 304,
   "metadata": {},
   "outputs": [],
   "source": [
    "for f1 in files:\n",
    "    img = face_recognition.load_image_file(f1)\n",
    "    data.append(face_recognition.face_encodings(img)[0])"
   ]
  },
  {
   "cell_type": "code",
   "execution_count": 324,
   "metadata": {},
   "outputs": [],
   "source": [
    "unknown_image_location = './img/unknown/mohanlal-kireedam.jpg'"
   ]
  },
  {
   "cell_type": "code",
   "execution_count": 325,
   "metadata": {},
   "outputs": [],
   "source": [
    "test_image = face_recognition.load_image_file(unknown_image_location)"
   ]
  },
  {
   "cell_type": "code",
   "execution_count": 326,
   "metadata": {},
   "outputs": [],
   "source": [
    "face_location = face_recognition.face_locations(test_image)\n",
    "face_encodings = face_recognition.face_encodings(test_image,face_location)"
   ]
  },
  {
   "cell_type": "code",
   "execution_count": 327,
   "metadata": {},
   "outputs": [],
   "source": [
    "pil_image = Image.fromarray(test_image)"
   ]
  },
  {
   "cell_type": "code",
   "execution_count": 328,
   "metadata": {},
   "outputs": [],
   "source": [
    "draw = ImageDraw.Draw(pil_image)"
   ]
  },
  {
   "cell_type": "code",
   "execution_count": 329,
   "metadata": {},
   "outputs": [
    {
     "name": "stdout",
     "output_type": "stream",
     "text": [
      "[True, False, False, True, False, False, False, False, False]\n"
     ]
    }
   ],
   "source": [
    "matches = []\n",
    "name_of_person = []\n",
    "for (top,bottom,left,right) , face_encoding in zip(face_location,face_encodings):\n",
    "    matches = face_recognition.compare_faces(data,face_encoding)\n",
    "    name = \"unknown\"\n",
    "    print(matches)\n",
    "    name_of_person.append(check_fun(matches))"
   ]
  },
  {
   "cell_type": "code",
   "execution_count": 311,
   "metadata": {},
   "outputs": [],
   "source": [
    "def check_fun(matches):\n",
    "    if True in matches:\n",
    "        first_match_index = matches.index(True)\n",
    "        name = files[first_match_index].split('\\\\')[1].split('.')[0]\n",
    "        draw.rectangle(((left,top),(right,bottom)),outline=(0,0,0))\n",
    "\n",
    "        text_width,text_height = draw.textsize(name)\n",
    "\n",
    "        draw.rectangle(((left ,bottom ),(right, bottom)),fill= (0,0,0),outline=(0,0,0))\n",
    "\n",
    "        draw.text((left ,bottom - text_height ),name, fill=(255,255,255))\n",
    "\n",
    "        return name\n",
    "\n",
    "    else:\n",
    "        name = str(input(\"Enter the name\"))\n",
    "        pil_image.save(\"./img/known/{0}\".format(name)) "
   ]
  },
  {
   "cell_type": "code",
   "execution_count": 330,
   "metadata": {},
   "outputs": [],
   "source": [
    "os.environ['GOOGLE_APPLICATION_CREDENTIALS'] = r'ServiceAccountToken.json'"
   ]
  },
  {
   "cell_type": "code",
   "execution_count": 331,
   "metadata": {},
   "outputs": [],
   "source": [
    "client = vision.ImageAnnotatorClient()"
   ]
  },
  {
   "cell_type": "code",
   "execution_count": 332,
   "metadata": {},
   "outputs": [],
   "source": [
    "with io.open(unknown_image_location,'rb') as image_file:\n",
    "    content = image_file.read()"
   ]
  },
  {
   "cell_type": "code",
   "execution_count": 333,
   "metadata": {},
   "outputs": [],
   "source": [
    "image_to_find_face_details = vision.types.Image(content = content)"
   ]
  },
  {
   "cell_type": "code",
   "execution_count": 334,
   "metadata": {},
   "outputs": [],
   "source": [
    "response = client.face_detection(image = image_to_find_face_details)"
   ]
  },
  {
   "cell_type": "code",
   "execution_count": 335,
   "metadata": {},
   "outputs": [],
   "source": [
    "face_annotation = response.face_annotations"
   ]
  },
  {
   "cell_type": "code",
   "execution_count": 336,
   "metadata": {},
   "outputs": [],
   "source": [
    "face_emotion = ['joy','sorrow','anger','surprise','underexposed','blurred','headwear']"
   ]
  },
  {
   "cell_type": "code",
   "execution_count": 337,
   "metadata": {},
   "outputs": [],
   "source": [
    "emmotion_of_person = list()\n",
    "for face in face_annotation:\n",
    "        b = [face.joy_likelihood,\n",
    "                face.sorrow_likelihood,\n",
    "                face.anger_likelihood,\n",
    "                face.surprise_likelihood,\n",
    "                face.under_exposed_likelihood,\n",
    "                face.blurred_likelihood,\n",
    "                face.headwear_likelihood]\n",
    "        emmotion_of_person.append(face_emotion[b.index(max(b))])"
   ]
  },
  {
   "cell_type": "code",
   "execution_count": 338,
   "metadata": {},
   "outputs": [
    {
     "data": {
      "text/plain": [
       "['joy']"
      ]
     },
     "execution_count": 338,
     "metadata": {},
     "output_type": "execute_result"
    }
   ],
   "source": [
    "emmotion_of_person"
   ]
  },
  {
   "cell_type": "code",
   "execution_count": 339,
   "metadata": {},
   "outputs": [],
   "source": [
    "df = pd.DataFrame(columns = ['Name','Emmotion'])"
   ]
  },
  {
   "cell_type": "code",
   "execution_count": 340,
   "metadata": {},
   "outputs": [],
   "source": [
    "for name,emmotion in zip(name_of_person,emmotion_of_person):\n",
    "    df = df.append(dict(\n",
    "        Name = name,\n",
    "        Emmotion = emmotion\n",
    "    ),ignore_index=True)"
   ]
  },
  {
   "cell_type": "code",
   "execution_count": 341,
   "metadata": {},
   "outputs": [
    {
     "data": {
      "text/html": [
       "<div>\n",
       "<style scoped>\n",
       "    .dataframe tbody tr th:only-of-type {\n",
       "        vertical-align: middle;\n",
       "    }\n",
       "\n",
       "    .dataframe tbody tr th {\n",
       "        vertical-align: top;\n",
       "    }\n",
       "\n",
       "    .dataframe thead th {\n",
       "        text-align: right;\n",
       "    }\n",
       "</style>\n",
       "<table border=\"1\" class=\"dataframe\">\n",
       "  <thead>\n",
       "    <tr style=\"text-align: right;\">\n",
       "      <th></th>\n",
       "      <th>Name</th>\n",
       "      <th>Emmotion</th>\n",
       "    </tr>\n",
       "  </thead>\n",
       "  <tbody>\n",
       "    <tr>\n",
       "      <th>0</th>\n",
       "      <td>mammootty</td>\n",
       "      <td>joy</td>\n",
       "    </tr>\n",
       "  </tbody>\n",
       "</table>\n",
       "</div>"
      ],
      "text/plain": [
       "        Name Emmotion\n",
       "0  mammootty      joy"
      ]
     },
     "execution_count": 341,
     "metadata": {},
     "output_type": "execute_result"
    }
   ],
   "source": [
    "df"
   ]
  },
  {
   "cell_type": "code",
   "execution_count": null,
   "metadata": {},
   "outputs": [],
   "source": []
  }
 ],
 "metadata": {
  "kernelspec": {
   "display_name": "Python 3",
   "language": "python",
   "name": "python3"
  },
  "language_info": {
   "codemirror_mode": {
    "name": "ipython",
    "version": 3
   },
   "file_extension": ".py",
   "mimetype": "text/x-python",
   "name": "python",
   "nbconvert_exporter": "python",
   "pygments_lexer": "ipython3",
   "version": "3.6.10"
  }
 },
 "nbformat": 4,
 "nbformat_minor": 4
}
